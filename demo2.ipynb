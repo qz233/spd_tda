{
 "cells": [
  {
   "cell_type": "code",
   "execution_count": 2,
   "id": "5afb5a81",
   "metadata": {},
   "outputs": [],
   "source": [
    "from omegaconf import OmegaConf\n",
    "from data import build_dataloader\n",
    "\n",
    "\n",
    "class Config():\n",
    "    resolution = 200\n",
    "    train_path = \"/data/haoyun/shortest-path/norway_random_train.pt\"\n",
    "    valid_path = \"/data/haoyun/shortest-path/norway_random_valid.pt\"\n",
    "    test_path = \"/data/haoyun/shortest-path/norway_random_test.pt\"\n",
    "    samples = 50000\n",
    "    n_sources = 100\n",
    "    sampling_method = \"random\"\n",
    "    batch_size = 128\n",
    "\n",
    "cfg = Config()\n",
    "dataloader = build_dataloader(cfg, \"valid\")"
   ]
  },
  {
   "cell_type": "code",
   "execution_count": 5,
   "id": "4c300702",
   "metadata": {},
   "outputs": [
    {
     "data": {
      "text/plain": [
       "torch.Size([128])"
      ]
     },
     "execution_count": 5,
     "metadata": {},
     "output_type": "execute_result"
    }
   ],
   "source": [
    "for batch in dataloader:\n",
    "    break\n",
    "batch[0].shape"
   ]
  },
  {
   "cell_type": "code",
   "execution_count": 6,
   "id": "617ef8b6",
   "metadata": {},
   "outputs": [
    {
     "data": {
      "text/plain": [
       "20000"
      ]
     },
     "execution_count": 6,
     "metadata": {},
     "output_type": "execute_result"
    }
   ],
   "source": [
    "len(dataloader.dataset)"
   ]
  },
  {
   "cell_type": "code",
   "execution_count": null,
   "id": "6d8bfe8e",
   "metadata": {},
   "outputs": [],
   "source": []
  }
 ],
 "metadata": {
  "kernelspec": {
   "display_name": "rfm",
   "language": "python",
   "name": "python3"
  },
  "language_info": {
   "codemirror_mode": {
    "name": "ipython",
    "version": 3
   },
   "file_extension": ".py",
   "mimetype": "text/x-python",
   "name": "python",
   "nbconvert_exporter": "python",
   "pygments_lexer": "ipython3",
   "version": "3.13.2"
  }
 },
 "nbformat": 4,
 "nbformat_minor": 5
}
